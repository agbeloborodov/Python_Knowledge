{
 "cells": [
  {
   "cell_type": "code",
   "execution_count": 1,
   "id": "924dbdc0",
   "metadata": {},
   "outputs": [],
   "source": [
    "''' Клиентское приложение Jupiter Notebook'''\n",
    "import pandas as pd\n",
    "\n",
    "df = pd.read_csv('d://california_housing_train.csv')"
   ]
  },
  {
   "cell_type": "code",
   "execution_count": 2,
   "id": "01a4ee43",
   "metadata": {},
   "outputs": [
    {
     "data": {
      "text/plain": [
       "206683.83635227982"
      ]
     },
     "execution_count": 2,
     "metadata": {},
     "output_type": "execute_result"
    }
   ],
   "source": [
    "''' Задача 40: Работать с файлом california_housing_train.csv. Определить среднюю стоимость дома, где кол-во людей\n",
    "от 0 до 500 (population).'''\n",
    "df[(df['population'] > 0) & (df['population'] < 500)].median_house_value.mean()"
   ]
  },
  {
   "cell_type": "code",
   "execution_count": 3,
   "id": "62e8dd72",
   "metadata": {},
   "outputs": [
    {
     "data": {
      "text/plain": [
       "4.0"
      ]
     },
     "execution_count": 3,
     "metadata": {},
     "output_type": "execute_result"
    }
   ],
   "source": [
    "''' Задача 42: Узнать какая максимальная households в зоне минимального значения population.'''\n",
    "min_population = df.population.min()\n",
    "df[df['population'] == min_population].households.max()"
   ]
  }
 ],
 "metadata": {
  "kernelspec": {
   "display_name": "Python 3 (ipykernel)",
   "language": "python",
   "name": "python3"
  },
  "language_info": {
   "codemirror_mode": {
    "name": "ipython",
    "version": 3
   },
   "file_extension": ".py",
   "mimetype": "text/x-python",
   "name": "python",
   "nbconvert_exporter": "python",
   "pygments_lexer": "ipython3",
   "version": "3.9.13"
  }
 },
 "nbformat": 4,
 "nbformat_minor": 5
}
